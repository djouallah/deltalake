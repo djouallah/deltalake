{
 "cells": [
  {
   "cell_type": "code",
   "execution_count": 81,
   "metadata": {},
   "outputs": [],
   "source": [
    "import os\n",
    "from datetime import datetime, date, timedelta\n",
    "import urllib.request as urllib2\n",
    "import tempfile\n",
    "import pandas as pd\n",
    "import pyarrow as pa\n",
    "from deltalake import DeltaTable\n",
    "from deltalake.writer import write_deltalake\n",
    "import re ,shutil\n",
    "from urllib.request import urlopen\n",
    "def get_file_path(filename):\n",
    "    return os.path.join(tempfile.gettempdir(), filename)\n",
    "def load(Path):    \n",
    "    \n",
    "    url = \"http://nemweb.com.au/Reports/Current/Dispatch_SCADA/\"\n",
    "    result = urlopen(url).read().decode('utf-8')\n",
    "    pattern = re.compile(r'[\\w.]*.zip')\n",
    "    filelist1 = pattern.findall(result)\n",
    "    filelist_unique = dict.fromkeys(filelist1)\n",
    "    filelist_sorted=sorted(filelist_unique, reverse=True)\n",
    "    filelist = filelist_sorted[:288]\n",
    "    \n",
    "    table_path = Path \n",
    "    try:\n",
    "        df = DeltaTable(table_path).to_pandas()\n",
    "    except:\n",
    "        df=pd.DataFrame(columns=['file']) \n",
    "    \n",
    "    df= df['file'].unique()\n",
    "    #print (df)\n",
    "\n",
    "    current = df.tolist()\n",
    "    #print(current)\n",
    "\n",
    "    files_to_upload = list(set(filelist) - set(current))\n",
    "    files_to_upload = list(dict.fromkeys(files_to_upload)) \n",
    "    print(str(len(files_to_upload)) + ' New File Loaded')\n",
    "    if len(files_to_upload) != 0 :\n",
    "      for x in filelist:\n",
    "            with urlopen(url+x) as source, open(get_file_path(x), 'w+b') as target:\n",
    "                shutil.copyfileobj(source, target)\n",
    "            df = pd.read_csv(get_file_path(x),skiprows=1,usecols=[\"SETTLEMENTDATE\", \"DUID\", \"SCADAVALUE\"],parse_dates=[\"SETTLEMENTDATE\"])\n",
    "            df=df.dropna(how='all') #drop na\n",
    "            df['SETTLEMENTDATE']= pd.to_datetime(df['SETTLEMENTDATE'])\n",
    "            df['Date'] = df['SETTLEMENTDATE'].dt.date\n",
    "            df['file'] = x\n",
    "            tb=pa.Table.from_pandas(df,preserve_index=False)\n",
    "            my_schema = pa.schema([\n",
    "                      pa.field('SETTLEMENTDATE', pa.timestamp('us')),\n",
    "                      pa.field('DUID', pa.string()),\n",
    "                      pa.field('SCADAVALUE', pa.float64()),\n",
    "                      pa.field('Date', pa.date32()),\n",
    "                      pa.field('file', pa.string())\n",
    "                      ]\n",
    "                                                       )\n",
    "            xx=tb.cast(target_schema=my_schema)\n",
    "            #print(xx)\n",
    "            write_deltalake(table_path, xx,mode='append',partition_by=['Date'])"
   ]
  },
  {
   "cell_type": "code",
   "execution_count": 82,
   "metadata": {},
   "outputs": [
    {
     "name": "stdout",
     "output_type": "stream",
     "text": [
      "273 New File Loaded\n"
     ]
    },
    {
     "data": {
      "text/html": [
       "\n",
       "<div id=\"altair-viz-ae99a399bff246848336594028b40039\"></div>\n",
       "<script type=\"text/javascript\">\n",
       "  (function(spec, embedOpt){\n",
       "    let outputDiv = document.currentScript.previousElementSibling;\n",
       "    if (outputDiv.id !== \"altair-viz-ae99a399bff246848336594028b40039\") {\n",
       "      outputDiv = document.getElementById(\"altair-viz-ae99a399bff246848336594028b40039\");\n",
       "    }\n",
       "    const paths = {\n",
       "      \"vega\": \"https://cdn.jsdelivr.net/npm//vega@5?noext\",\n",
       "      \"vega-lib\": \"https://cdn.jsdelivr.net/npm//vega-lib?noext\",\n",
       "      \"vega-lite\": \"https://cdn.jsdelivr.net/npm//vega-lite@4.8.1?noext\",\n",
       "      \"vega-embed\": \"https://cdn.jsdelivr.net/npm//vega-embed@6?noext\",\n",
       "    };\n",
       "\n",
       "    function loadScript(lib) {\n",
       "      return new Promise(function(resolve, reject) {\n",
       "        var s = document.createElement('script');\n",
       "        s.src = paths[lib];\n",
       "        s.async = true;\n",
       "        s.onload = () => resolve(paths[lib]);\n",
       "        s.onerror = () => reject(`Error loading script: ${paths[lib]}`);\n",
       "        document.getElementsByTagName(\"head\")[0].appendChild(s);\n",
       "      });\n",
       "    }\n",
       "\n",
       "    function showError(err) {\n",
       "      outputDiv.innerHTML = `<div class=\"error\" style=\"color:red;\">${err}</div>`;\n",
       "      throw err;\n",
       "    }\n",
       "\n",
       "    function displayChart(vegaEmbed) {\n",
       "      vegaEmbed(outputDiv, spec, embedOpt)\n",
       "        .catch(err => showError(`Javascript Error: ${err.message}<br>This usually means there's a typo in your chart specification. See the javascript console for the full traceback.`));\n",
       "    }\n",
       "\n",
       "    if(typeof define === \"function\" && define.amd) {\n",
       "      requirejs.config({paths});\n",
       "      require([\"vega-embed\"], displayChart, err => showError(`Error loading script: ${err.message}`));\n",
       "    } else if (typeof vegaEmbed === \"function\") {\n",
       "      displayChart(vegaEmbed);\n",
       "    } else {\n",
       "      loadScript(\"vega\")\n",
       "        .then(() => loadScript(\"vega-lite\"))\n",
       "        .then(() => loadScript(\"vega-embed\"))\n",
       "        .catch(showError)\n",
       "        .then(() => displayChart(vegaEmbed));\n",
       "    }\n",
       "  })({\"config\": {\"view\": {\"continuousWidth\": 400, \"continuousHeight\": 300}}, \"data\": {\"name\": \"data-240a5f77b01b3e31ee89e7122f42b8f9\"}, \"mark\": \"line\", \"encoding\": {\"x\": {\"type\": \"temporal\", \"field\": \"SETTLEMENTDATE\"}, \"y\": {\"type\": \"quantitative\", \"field\": \"mwh\"}}, \"$schema\": \"https://vega.github.io/schema/vega-lite/v4.8.1.json\", \"datasets\": {\"data-240a5f77b01b3e31ee89e7122f42b8f9\": [{\"SETTLEMENTDATE\": \"2022-06-28T18:55:00\", \"mwh\": 30608.970802000007}, {\"SETTLEMENTDATE\": \"2022-06-28T19:10:00\", \"mwh\": 30235.367296000008}, {\"SETTLEMENTDATE\": \"2022-06-28T19:15:00\", \"mwh\": 30168.34991700002}, {\"SETTLEMENTDATE\": \"2022-06-28T18:50:00\", \"mwh\": 30718.289373000014}, {\"SETTLEMENTDATE\": \"2022-06-28T18:05:00\", \"mwh\": 30678.759509000007}, {\"SETTLEMENTDATE\": \"2022-06-28T17:05:00\", \"mwh\": 28284.380305000006}, {\"SETTLEMENTDATE\": \"2022-06-28T15:00:00\", \"mwh\": 23222.319404000013}, {\"SETTLEMENTDATE\": \"2022-06-28T09:20:00\", \"mwh\": 26451.217075000015}, {\"SETTLEMENTDATE\": \"2022-06-28T18:30:00\", \"mwh\": 30679.456664000016}, {\"SETTLEMENTDATE\": \"2022-06-28T17:25:00\", \"mwh\": 29616.68155799999}, {\"SETTLEMENTDATE\": \"2022-06-28T10:35:00\", \"mwh\": 24586.376687000004}, {\"SETTLEMENTDATE\": \"2022-06-28T10:20:00\", \"mwh\": 24974.55773200001}, {\"SETTLEMENTDATE\": \"2022-06-28T08:40:00\", \"mwh\": 28107.101113000004}, {\"SETTLEMENTDATE\": \"2022-06-28T03:05:00\", \"mwh\": 20362.56174999999}, {\"SETTLEMENTDATE\": \"2022-06-28T00:50:00\", \"mwh\": 22481.627932}, {\"SETTLEMENTDATE\": \"2022-06-27T23:35:00\", \"mwh\": 23945.804465999998}, {\"SETTLEMENTDATE\": \"2022-06-28T16:30:00\", \"mwh\": 26257.663478000013}, {\"SETTLEMENTDATE\": \"2022-06-28T14:45:00\", \"mwh\": 23481.427620999995}, {\"SETTLEMENTDATE\": \"2022-06-28T08:00:00\", \"mwh\": 28548.961277}, {\"SETTLEMENTDATE\": \"2022-06-27T22:35:00\", \"mwh\": 25295.50265900001}, {\"SETTLEMENTDATE\": \"2022-06-28T00:15:00\", \"mwh\": 23033.128931000007}, {\"SETTLEMENTDATE\": \"2022-06-28T19:00:00\", \"mwh\": 30562.805068}, {\"SETTLEMENTDATE\": \"2022-06-28T16:25:00\", \"mwh\": 26009.808534999993}, {\"SETTLEMENTDATE\": \"2022-06-28T19:30:00\", \"mwh\": 29882.46198499999}, {\"SETTLEMENTDATE\": \"2022-06-28T15:50:00\", \"mwh\": 24396.270513}, {\"SETTLEMENTDATE\": \"2022-06-28T14:05:00\", \"mwh\": 23236.661599999992}, {\"SETTLEMENTDATE\": \"2022-06-28T07:20:00\", \"mwh\": 27579.370937999996}, {\"SETTLEMENTDATE\": \"2022-06-27T21:55:00\", \"mwh\": 26597.864349000007}, {\"SETTLEMENTDATE\": \"2022-06-28T18:20:00\", \"mwh\": 30688.342083999996}, {\"SETTLEMENTDATE\": \"2022-06-28T15:05:00\", \"mwh\": 23323.32541199999}, {\"SETTLEMENTDATE\": \"2022-06-28T13:35:00\", \"mwh\": 24024.37164500001}, {\"SETTLEMENTDATE\": \"2022-06-27T21:30:00\", \"mwh\": 27495.126945999993}, {\"SETTLEMENTDATE\": \"2022-06-28T15:10:00\", \"mwh\": 23393.649098999987}, {\"SETTLEMENTDATE\": \"2022-06-28T12:05:00\", \"mwh\": 23659.380507000005}, {\"SETTLEMENTDATE\": \"2022-06-28T06:40:00\", \"mwh\": 25412.51000099999}, {\"SETTLEMENTDATE\": \"2022-06-27T21:15:00\", \"mwh\": 28077.83338}, {\"SETTLEMENTDATE\": \"2022-06-28T14:20:00\", \"mwh\": 23765.836179000013}, {\"SETTLEMENTDATE\": \"2022-06-28T12:55:00\", \"mwh\": 23635.647225}, {\"SETTLEMENTDATE\": \"2022-06-28T19:05:00\", \"mwh\": 30322.128797999998}, {\"SETTLEMENTDATE\": \"2022-06-27T20:50:00\", \"mwh\": 28916.497513}, {\"SETTLEMENTDATE\": \"2022-06-28T11:25:00\", \"mwh\": 23648.816849}, {\"SETTLEMENTDATE\": \"2022-06-28T11:10:00\", \"mwh\": 23959.607959}, {\"SETTLEMENTDATE\": \"2022-06-28T05:20:00\", \"mwh\": 22744.399503000008}, {\"SETTLEMENTDATE\": \"2022-06-27T20:35:00\", \"mwh\": 29361.639034999997}, {\"SETTLEMENTDATE\": \"2022-06-28T12:15:00\", \"mwh\": 23318.214937000004}, {\"SETTLEMENTDATE\": \"2022-06-28T11:00:00\", \"mwh\": 23717.932207000013}, {\"SETTLEMENTDATE\": \"2022-06-28T18:25:00\", \"mwh\": 30667.138242999987}, {\"SETTLEMENTDATE\": \"2022-06-28T10:50:00\", \"mwh\": 24289.40300700001}, {\"SETTLEMENTDATE\": \"2022-06-28T13:25:00\", \"mwh\": 23936.93364}, {\"SETTLEMENTDATE\": \"2022-06-28T04:40:00\", \"mwh\": 21355.322526999993}, {\"SETTLEMENTDATE\": \"2022-06-27T19:55:00\", \"mwh\": 29969.452897}, {\"SETTLEMENTDATE\": \"2022-06-28T02:30:00\", \"mwh\": 20538.392771999985}, {\"SETTLEMENTDATE\": \"2022-06-28T11:35:00\", \"mwh\": 23499.116218000003}, {\"SETTLEMENTDATE\": \"2022-06-28T09:40:00\", \"mwh\": 25397.851192000002}, {\"SETTLEMENTDATE\": \"2022-06-28T17:45:00\", \"mwh\": 30521.205456000003}, {\"SETTLEMENTDATE\": \"2022-06-28T10:10:00\", \"mwh\": 24565.764207999997}, {\"SETTLEMENTDATE\": \"2022-06-28T12:45:00\", \"mwh\": 23634.821450000007}, {\"SETTLEMENTDATE\": \"2022-06-28T04:00:00\", \"mwh\": 20321.187055}, {\"SETTLEMENTDATE\": \"2022-06-28T01:50:00\", \"mwh\": 21238.410328000005}, {\"SETTLEMENTDATE\": \"2022-06-28T18:35:00\", \"mwh\": 30692.429775000004}, {\"SETTLEMENTDATE\": \"2022-06-28T00:55:00\", \"mwh\": 22274.14218199998}, {\"SETTLEMENTDATE\": \"2022-06-28T15:40:00\", \"mwh\": 23856.671317000004}, {\"SETTLEMENTDATE\": \"2022-06-28T13:05:00\", \"mwh\": 23796.020361000014}, {\"SETTLEMENTDATE\": \"2022-06-28T18:10:00\", \"mwh\": 30732.349640000008}, {\"SETTLEMENTDATE\": \"2022-06-28T06:05:00\", \"mwh\": 23338.10135400001}, {\"SETTLEMENTDATE\": \"2022-06-28T03:20:00\", \"mwh\": 20090.685064999994}, {\"SETTLEMENTDATE\": \"2022-06-28T17:50:00\", \"mwh\": 30599.863000999983}, {\"SETTLEMENTDATE\": \"2022-06-28T02:35:00\", \"mwh\": 20435.383019999997}, {\"SETTLEMENTDATE\": \"2022-06-27T22:55:00\", \"mwh\": 24719.274362000007}, {\"SETTLEMENTDATE\": \"2022-06-28T12:25:00\", \"mwh\": 23141.010260000014}, {\"SETTLEMENTDATE\": \"2022-06-28T11:40:00\", \"mwh\": 23471.909408999985}, {\"SETTLEMENTDATE\": \"2022-06-28T17:30:00\", \"mwh\": 29755.35338100001}, {\"SETTLEMENTDATE\": \"2022-06-28T19:25:00\", \"mwh\": 29952.981211000002}, {\"SETTLEMENTDATE\": \"2022-06-28T17:10:00\", \"mwh\": 28512.363327000025}, {\"SETTLEMENTDATE\": \"2022-06-28T19:20:00\", \"mwh\": 30137.120396999988}, {\"SETTLEMENTDATE\": \"2022-06-28T01:55:00\", \"mwh\": 21229.72128199999}, {\"SETTLEMENTDATE\": \"2022-06-27T22:15:00\", \"mwh\": 25927.567437}, {\"SETTLEMENTDATE\": \"2022-06-28T00:25:00\", \"mwh\": 22850.193914999996}, {\"SETTLEMENTDATE\": \"2022-06-27T23:00:00\", \"mwh\": 24539.226472000002}, {\"SETTLEMENTDATE\": \"2022-06-28T16:50:00\", \"mwh\": 27432.215637000012}, {\"SETTLEMENTDATE\": \"2022-06-28T16:45:00\", \"mwh\": 27040.762504000006}, {\"SETTLEMENTDATE\": \"2022-06-28T10:40:00\", \"mwh\": 24407.811357000024}, {\"SETTLEMENTDATE\": \"2022-06-28T03:10:00\", \"mwh\": 20132.130792999997}, {\"SETTLEMENTDATE\": \"2022-06-27T23:55:00\", \"mwh\": 23564.663085000004}, {\"SETTLEMENTDATE\": \"2022-06-28T10:55:00\", \"mwh\": 23801.305759999996}, {\"SETTLEMENTDATE\": \"2022-06-27T21:05:00\", \"mwh\": 28423.472539000006}, {\"SETTLEMENTDATE\": \"2022-06-28T17:40:00\", \"mwh\": 30265.63998699998}, {\"SETTLEMENTDATE\": \"2022-06-28T16:10:00\", \"mwh\": 25135.67191099999}, {\"SETTLEMENTDATE\": \"2022-06-28T16:05:00\", \"mwh\": 24924.101892999995}, {\"SETTLEMENTDATE\": \"2022-06-28T10:00:00\", \"mwh\": 24623.492952000008}, {\"SETTLEMENTDATE\": \"2022-06-27T23:15:00\", \"mwh\": 24342.71529300001}, {\"SETTLEMENTDATE\": \"2022-06-28T14:30:00\", \"mwh\": 23584.512164999996}, {\"SETTLEMENTDATE\": \"2022-06-28T10:15:00\", \"mwh\": 25017.187279999987}, {\"SETTLEMENTDATE\": \"2022-06-28T01:05:00\", \"mwh\": 22132.78885300001}, {\"SETTLEMENTDATE\": \"2022-06-28T17:00:00\", \"mwh\": 28151.665725000003}, {\"SETTLEMENTDATE\": \"2022-06-28T15:30:00\", \"mwh\": 23946.71303299998}, {\"SETTLEMENTDATE\": \"2022-06-28T18:45:00\", \"mwh\": 30749.916045999995}, {\"SETTLEMENTDATE\": \"2022-06-28T06:00:00\", \"mwh\": 23335.691113000004}, {\"SETTLEMENTDATE\": \"2022-06-28T00:35:00\", \"mwh\": 22631.81938799999}, {\"SETTLEMENTDATE\": \"2022-06-28T13:50:00\", \"mwh\": 23245.13368200001}, {\"SETTLEMENTDATE\": \"2022-06-28T08:55:00\", \"mwh\": 27547.639759}, {\"SETTLEMENTDATE\": \"2022-06-27T23:45:00\", \"mwh\": 23910.587649999994}, {\"SETTLEMENTDATE\": \"2022-06-28T09:00:00\", \"mwh\": 27405.878707}, {\"SETTLEMENTDATE\": \"2022-06-28T14:50:00\", \"mwh\": 23194.731495999997}, {\"SETTLEMENTDATE\": \"2022-06-28T08:05:00\", \"mwh\": 28587.405094000016}, {\"SETTLEMENTDATE\": \"2022-06-28T18:40:00\", \"mwh\": 30671.502339000006}, {\"SETTLEMENTDATE\": \"2022-06-28T09:50:00\", \"mwh\": 24970.50174600001}, {\"SETTLEMENTDATE\": \"2022-06-28T08:15:00\", \"mwh\": 28592.337586999987}, {\"SETTLEMENTDATE\": \"2022-06-28T03:15:00\", \"mwh\": 20122.96649700001}, {\"SETTLEMENTDATE\": \"2022-06-28T15:45:00\", \"mwh\": 24205.541773000004}, {\"SETTLEMENTDATE\": \"2022-06-28T08:20:00\", \"mwh\": 28583.447211000006}, {\"SETTLEMENTDATE\": \"2022-06-28T14:10:00\", \"mwh\": 23427.57004900002}, {\"SETTLEMENTDATE\": \"2022-06-28T07:25:00\", \"mwh\": 27832.689127}, {\"SETTLEMENTDATE\": \"2022-06-28T09:10:00\", \"mwh\": 26940.70749}, {\"SETTLEMENTDATE\": \"2022-06-28T07:35:00\", \"mwh\": 28260.000511}, {\"SETTLEMENTDATE\": \"2022-06-27T22:40:00\", \"mwh\": 25007.780266000005}, {\"SETTLEMENTDATE\": \"2022-06-28T14:25:00\", \"mwh\": 23806.02314299999}, {\"SETTLEMENTDATE\": \"2022-06-28T07:40:00\", \"mwh\": 28356.23658900002}, {\"SETTLEMENTDATE\": \"2022-06-28T06:35:00\", \"mwh\": 25028.278903000002}, {\"SETTLEMENTDATE\": \"2022-06-28T01:30:00\", \"mwh\": 21669.280810000007}, {\"SETTLEMENTDATE\": \"2022-06-28T06:45:00\", \"mwh\": 25752.038717000007}, {\"SETTLEMENTDATE\": \"2022-06-28T06:30:00\", \"mwh\": 24785.826068999988}, {\"SETTLEMENTDATE\": \"2022-06-27T22:00:00\", \"mwh\": 26327.94525799999}, {\"SETTLEMENTDATE\": \"2022-06-28T13:45:00\", \"mwh\": 23200.437592000006}, {\"SETTLEMENTDATE\": \"2022-06-28T09:35:00\", \"mwh\": 25683.963479999984}, {\"SETTLEMENTDATE\": \"2022-06-28T06:20:00\", \"mwh\": 24210.628965}, {\"SETTLEMENTDATE\": \"2022-06-28T01:15:00\", \"mwh\": 21912.571821999998}, {\"SETTLEMENTDATE\": \"2022-06-28T13:30:00\", \"mwh\": 23927.330441000016}, {\"SETTLEMENTDATE\": \"2022-06-28T05:25:00\", \"mwh\": 21978.07799300001}, {\"SETTLEMENTDATE\": \"2022-06-28T05:50:00\", \"mwh\": 22969.917732999995}, {\"SETTLEMENTDATE\": \"2022-06-27T21:20:00\", \"mwh\": 27920.645182999993}, {\"SETTLEMENTDATE\": \"2022-06-27T20:25:00\", \"mwh\": 29543.542493}, {\"SETTLEMENTDATE\": \"2022-06-28T05:40:00\", \"mwh\": 22666.21004700001}, {\"SETTLEMENTDATE\": \"2022-06-28T09:55:00\", \"mwh\": 24878.614114000004}, {\"SETTLEMENTDATE\": \"2022-06-28T06:55:00\", \"mwh\": 26452.317386000006}, {\"SETTLEMENTDATE\": \"2022-06-28T12:50:00\", \"mwh\": 23427.66773799999}, {\"SETTLEMENTDATE\": \"2022-06-28T04:45:00\", \"mwh\": 21406.188207999992}, {\"SETTLEMENTDATE\": \"2022-06-28T05:10:00\", \"mwh\": 21886.710755000007}, {\"SETTLEMENTDATE\": \"2022-06-28T16:40:00\", \"mwh\": 26802.123901999985}, {\"SETTLEMENTDATE\": \"2022-06-28T05:00:00\", \"mwh\": 21667.522570999994}, {\"SETTLEMENTDATE\": \"2022-06-28T09:15:00\", \"mwh\": 26624.37657300001}, {\"SETTLEMENTDATE\": \"2022-06-28T06:15:00\", \"mwh\": 24036.152752}, {\"SETTLEMENTDATE\": \"2022-06-27T21:45:00\", \"mwh\": 27013.268126000006}, {\"SETTLEMENTDATE\": \"2022-06-28T12:10:00\", \"mwh\": 23886.978228}, {\"SETTLEMENTDATE\": \"2022-06-28T04:05:00\", \"mwh\": 20323.03192400001}, {\"SETTLEMENTDATE\": \"2022-06-28T04:30:00\", \"mwh\": 21423.47172400001}, {\"SETTLEMENTDATE\": \"2022-06-28T04:20:00\", \"mwh\": 21346.496933000006}, {\"SETTLEMENTDATE\": \"2022-06-28T14:00:00\", \"mwh\": 23254.311115}, {\"SETTLEMENTDATE\": \"2022-06-28T08:35:00\", \"mwh\": 28294.853277000017}, {\"SETTLEMENTDATE\": \"2022-06-28T03:35:00\", \"mwh\": 20031.682104}, {\"SETTLEMENTDATE\": \"2022-06-28T11:30:00\", \"mwh\": 23485.786025}, {\"SETTLEMENTDATE\": \"2022-06-28T02:25:00\", \"mwh\": 20627.001243999992}, {\"SETTLEMENTDATE\": \"2022-06-27T20:05:00\", \"mwh\": 29749.45910100002}, {\"SETTLEMENTDATE\": \"2022-06-28T03:50:00\", \"mwh\": 20422.29977}, {\"SETTLEMENTDATE\": \"2022-06-28T03:40:00\", \"mwh\": 20256.736285000003}, {\"SETTLEMENTDATE\": \"2022-06-28T12:40:00\", \"mwh\": 23529.067125999998}, {\"SETTLEMENTDATE\": \"2022-06-28T05:55:00\", \"mwh\": 23163.154116000005}, {\"SETTLEMENTDATE\": \"2022-06-28T02:55:00\", \"mwh\": 20299.127645999997}, {\"SETTLEMENTDATE\": \"2022-06-28T09:30:00\", \"mwh\": 25971.764887000005}, {\"SETTLEMENTDATE\": \"2022-06-28T01:45:00\", \"mwh\": 21276.22757500001}, {\"SETTLEMENTDATE\": \"2022-06-28T02:05:00\", \"mwh\": 21086.05509799999}, {\"SETTLEMENTDATE\": \"2022-06-28T13:10:00\", \"mwh\": 23677.225056999996}, {\"SETTLEMENTDATE\": \"2022-06-28T03:00:00\", \"mwh\": 20337.265057000004}, {\"SETTLEMENTDATE\": \"2022-06-28T12:00:00\", \"mwh\": 23232.133671999993}, {\"SETTLEMENTDATE\": \"2022-06-28T05:15:00\", \"mwh\": 22063.530045000007}, {\"SETTLEMENTDATE\": \"2022-06-28T02:15:00\", \"mwh\": 20795.12436400001}, {\"SETTLEMENTDATE\": \"2022-06-28T08:50:00\", \"mwh\": 27631.937259000002}, {\"SETTLEMENTDATE\": \"2022-06-28T11:45:00\", \"mwh\": 23273.914567}, {\"SETTLEMENTDATE\": \"2022-06-28T02:45:00\", \"mwh\": 20477.444251999998}, {\"SETTLEMENTDATE\": \"2022-06-28T12:30:00\", \"mwh\": 23206.192798999993}, {\"SETTLEMENTDATE\": \"2022-06-28T02:20:00\", \"mwh\": 20769.709630999994}, {\"SETTLEMENTDATE\": \"2022-06-28T11:20:00\", \"mwh\": 23875.902210000026}, {\"SETTLEMENTDATE\": \"2022-06-28T04:35:00\", \"mwh\": 21549.252694000003}, {\"SETTLEMENTDATE\": \"2022-06-28T08:10:00\", \"mwh\": 28596.834620000012}, {\"SETTLEMENTDATE\": \"2022-06-28T14:15:00\", \"mwh\": 23182.405284999997}, {\"SETTLEMENTDATE\": \"2022-06-28T11:05:00\", \"mwh\": 23716.480079999998}, {\"SETTLEMENTDATE\": \"2022-06-28T15:25:00\", \"mwh\": 23851.502588000007}, {\"SETTLEMENTDATE\": \"2022-06-28T11:50:00\", \"mwh\": 23257.69697300002}, {\"SETTLEMENTDATE\": \"2022-06-28T01:40:00\", \"mwh\": 21515.481059000012}, {\"SETTLEMENTDATE\": \"2022-06-28T13:20:00\", \"mwh\": 23529.566672}, {\"SETTLEMENTDATE\": \"2022-06-28T17:15:00\", \"mwh\": 28902.916831}, {\"SETTLEMENTDATE\": \"2022-06-28T07:30:00\", \"mwh\": 28052.274531000014}, {\"SETTLEMENTDATE\": \"2022-06-28T10:25:00\", \"mwh\": 24880.492083000005}, {\"SETTLEMENTDATE\": \"2022-06-28T05:35:00\", \"mwh\": 22178.172874000004}, {\"SETTLEMENTDATE\": \"2022-06-27T23:50:00\", \"mwh\": 23685.357128000018}, {\"SETTLEMENTDATE\": \"2022-06-28T00:40:00\", \"mwh\": 22652.509928000014}, {\"SETTLEMENTDATE\": \"2022-06-27T22:20:00\", \"mwh\": 25650.52610900001}, {\"SETTLEMENTDATE\": \"2022-06-27T21:25:00\", \"mwh\": 27739.082860999988}, {\"SETTLEMENTDATE\": \"2022-06-28T16:35:00\", \"mwh\": 26504.97884899999}, {\"SETTLEMENTDATE\": \"2022-06-28T06:50:00\", \"mwh\": 26119.06628600001}, {\"SETTLEMENTDATE\": \"2022-06-28T09:45:00\", \"mwh\": 25218.627130999997}, {\"SETTLEMENTDATE\": \"2022-06-28T04:55:00\", \"mwh\": 21550.44487700001}, {\"SETTLEMENTDATE\": \"2022-06-27T23:10:00\", \"mwh\": 24270.995595000008}, {\"SETTLEMENTDATE\": \"2022-06-28T00:00:00\", \"mwh\": 23575.564794000005}, {\"SETTLEMENTDATE\": \"2022-06-27T20:20:00\", \"mwh\": 29617.85870500001}, {\"SETTLEMENTDATE\": \"2022-06-28T15:15:00\", \"mwh\": 23526.866744000003}, {\"SETTLEMENTDATE\": \"2022-06-28T06:10:00\", \"mwh\": 23637.91069300001}, {\"SETTLEMENTDATE\": \"2022-06-28T01:25:00\", \"mwh\": 21705.45656900001}, {\"SETTLEMENTDATE\": \"2022-06-28T09:05:00\", \"mwh\": 27100.437308000004}, {\"SETTLEMENTDATE\": \"2022-06-28T04:15:00\", \"mwh\": 21302.408915999997}, {\"SETTLEMENTDATE\": \"2022-06-27T21:10:00\", \"mwh\": 28176.791691999995}, {\"SETTLEMENTDATE\": \"2022-06-27T23:20:00\", \"mwh\": 24180.348426000008}, {\"SETTLEMENTDATE\": \"2022-06-28T11:15:00\", \"mwh\": 23930.960282999986}, {\"SETTLEMENTDATE\": \"2022-06-28T05:30:00\", \"mwh\": 22019.960150999992}, {\"SETTLEMENTDATE\": \"2022-06-27T22:05:00\", \"mwh\": 26155.148678999994}, {\"SETTLEMENTDATE\": \"2022-06-27T19:40:00\", \"mwh\": 29907.953577999993}, {\"SETTLEMENTDATE\": \"2022-06-28T08:25:00\", \"mwh\": 28428.500748999995}, {\"SETTLEMENTDATE\": \"2022-06-28T01:35:00\", \"mwh\": 21607.708195000007}, {\"SETTLEMENTDATE\": \"2022-06-27T20:30:00\", \"mwh\": 29447.393315000005}, {\"SETTLEMENTDATE\": \"2022-06-28T14:40:00\", \"mwh\": 23466.35382999999}, {\"SETTLEMENTDATE\": \"2022-06-28T17:55:00\", \"mwh\": 30462.28195699999}, {\"SETTLEMENTDATE\": \"2022-06-28T04:50:00\", \"mwh\": 21450.813347000003}, {\"SETTLEMENTDATE\": \"2022-06-27T22:45:00\", \"mwh\": 24972.365700000006}, {\"SETTLEMENTDATE\": \"2022-06-28T16:20:00\", \"mwh\": 25783.960601000002}, {\"SETTLEMENTDATE\": \"2022-06-28T07:45:00\", \"mwh\": 28456.42718200001}, {\"SETTLEMENTDATE\": \"2022-06-28T18:15:00\", \"mwh\": 30741.28773900002}, {\"SETTLEMENTDATE\": \"2022-06-27T22:30:00\", \"mwh\": 25289.318899}, {\"SETTLEMENTDATE\": \"2022-06-28T15:55:00\", \"mwh\": 24579.388637000004}, {\"SETTLEMENTDATE\": \"2022-06-28T04:10:00\", \"mwh\": 20979.881428999997}, {\"SETTLEMENTDATE\": \"2022-06-27T20:40:00\", \"mwh\": 29142.819290999996}, {\"SETTLEMENTDATE\": \"2022-06-28T12:20:00\", \"mwh\": 23285.453437000007}, {\"SETTLEMENTDATE\": \"2022-06-28T07:05:00\", \"mwh\": 26983.616538000017}, {\"SETTLEMENTDATE\": \"2022-06-28T03:25:00\", \"mwh\": 20030.100147}, {\"SETTLEMENTDATE\": \"2022-06-28T17:35:00\", \"mwh\": 30101.842480999992}, {\"SETTLEMENTDATE\": \"2022-06-27T21:50:00\", \"mwh\": 26843.305802}, {\"SETTLEMENTDATE\": \"2022-06-28T03:30:00\", \"mwh\": 19938.511840000003}, {\"SETTLEMENTDATE\": \"2022-06-27T20:00:00\", \"mwh\": 29908.63429699999}, {\"SETTLEMENTDATE\": \"2022-06-28T13:15:00\", \"mwh\": 23775.645043000004}, {\"SETTLEMENTDATE\": \"2022-06-28T01:00:00\", \"mwh\": 22237.095874999995}, {\"SETTLEMENTDATE\": \"2022-06-27T23:05:00\", \"mwh\": 24329.257020999998}, {\"SETTLEMENTDATE\": \"2022-06-27T20:45:00\", \"mwh\": 29024.50942100001}, {\"SETTLEMENTDATE\": \"2022-06-28T16:55:00\", \"mwh\": 27722.13216000002}, {\"SETTLEMENTDATE\": \"2022-06-27T19:50:00\", \"mwh\": 29983.297282999996}, {\"SETTLEMENTDATE\": \"2022-06-27T23:30:00\", \"mwh\": 24046.939882}, {\"SETTLEMENTDATE\": \"2022-06-28T18:00:00\", \"mwh\": 30685.723586000015}, {\"SETTLEMENTDATE\": \"2022-06-28T12:35:00\", \"mwh\": 23429.00315200001}, {\"SETTLEMENTDATE\": \"2022-06-28T00:20:00\", \"mwh\": 22880.53696900001}, {\"SETTLEMENTDATE\": \"2022-06-27T22:25:00\", \"mwh\": 25411.553516}, {\"SETTLEMENTDATE\": \"2022-06-28T16:15:00\", \"mwh\": 25433.70634000001}, {\"SETTLEMENTDATE\": \"2022-06-28T10:45:00\", \"mwh\": 24467.326794000004}, {\"SETTLEMENTDATE\": \"2022-06-28T07:50:00\", \"mwh\": 28614.76355700002}, {\"SETTLEMENTDATE\": \"2022-06-28T00:10:00\", \"mwh\": 23287.760839000002}, {\"SETTLEMENTDATE\": \"2022-06-28T17:20:00\", \"mwh\": 29236.78219500002}, {\"SETTLEMENTDATE\": \"2022-06-28T03:55:00\", \"mwh\": 20388.693649999997}, {\"SETTLEMENTDATE\": \"2022-06-27T23:40:00\", \"mwh\": 24025.47460300001}, {\"SETTLEMENTDATE\": \"2022-06-27T19:45:00\", \"mwh\": 29992.635840999992}, {\"SETTLEMENTDATE\": \"2022-06-28T15:35:00\", \"mwh\": 24180.001732}, {\"SETTLEMENTDATE\": \"2022-06-28T10:05:00\", \"mwh\": 24774.175099000004}, {\"SETTLEMENTDATE\": \"2022-06-28T07:10:00\", \"mwh\": 27135.750429}, {\"SETTLEMENTDATE\": \"2022-06-28T16:00:00\", \"mwh\": 24713.63149799998}, {\"SETTLEMENTDATE\": \"2022-06-28T02:50:00\", \"mwh\": 20480.50510200002}, {\"SETTLEMENTDATE\": \"2022-06-27T21:40:00\", \"mwh\": 27120.88355600001}, {\"SETTLEMENTDATE\": \"2022-06-28T14:55:00\", \"mwh\": 23240.156433000004}, {\"SETTLEMENTDATE\": \"2022-06-28T14:35:00\", \"mwh\": 23533.520659000005}, {\"SETTLEMENTDATE\": \"2022-06-28T09:25:00\", \"mwh\": 26157.282566000016}, {\"SETTLEMENTDATE\": \"2022-06-28T06:25:00\", \"mwh\": 24579.71447500001}, {\"SETTLEMENTDATE\": \"2022-06-28T10:30:00\", \"mwh\": 24782.352631999987}, {\"SETTLEMENTDATE\": \"2022-06-28T15:20:00\", \"mwh\": 23600.560399999984}, {\"SETTLEMENTDATE\": \"2022-06-28T02:10:00\", \"mwh\": 20878.756410000005}, {\"SETTLEMENTDATE\": \"2022-06-27T21:00:00\", \"mwh\": 28621.499221000013}, {\"SETTLEMENTDATE\": \"2022-06-28T13:55:00\", \"mwh\": 23213.429731000004}, {\"SETTLEMENTDATE\": \"2022-06-28T08:45:00\", \"mwh\": 27810.94996600001}, {\"SETTLEMENTDATE\": \"2022-06-28T05:45:00\", \"mwh\": 22934.819300999996}, {\"SETTLEMENTDATE\": \"2022-06-27T21:35:00\", \"mwh\": 27204.765569999985}, {\"SETTLEMENTDATE\": \"2022-06-28T01:10:00\", \"mwh\": 22072.682067000005}, {\"SETTLEMENTDATE\": \"2022-06-28T13:40:00\", \"mwh\": 23992.411347}, {\"SETTLEMENTDATE\": \"2022-06-28T11:55:00\", \"mwh\": 23684.430694000002}, {\"SETTLEMENTDATE\": \"2022-06-27T20:10:00\", \"mwh\": 29926.898795000005}, {\"SETTLEMENTDATE\": \"2022-06-28T05:05:00\", \"mwh\": 21689.84942499999}, {\"SETTLEMENTDATE\": \"2022-06-28T02:40:00\", \"mwh\": 20463.88502600001}, {\"SETTLEMENTDATE\": \"2022-06-28T00:45:00\", \"mwh\": 22555.249019000003}, {\"SETTLEMENTDATE\": \"2022-06-27T20:55:00\", \"mwh\": 28723.076277999997}, {\"SETTLEMENTDATE\": \"2022-06-28T00:30:00\", \"mwh\": 22807.796307999994}, {\"SETTLEMENTDATE\": \"2022-06-28T13:00:00\", \"mwh\": 23789.305949999998}, {\"SETTLEMENTDATE\": \"2022-06-28T07:55:00\", \"mwh\": 28633.365834000004}, {\"SETTLEMENTDATE\": \"2022-06-28T04:25:00\", \"mwh\": 21347.332814000005}, {\"SETTLEMENTDATE\": \"2022-06-28T02:00:00\", \"mwh\": 21146.174389000003}, {\"SETTLEMENTDATE\": \"2022-06-28T00:05:00\", \"mwh\": 23269.280081000008}, {\"SETTLEMENTDATE\": \"2022-06-27T22:50:00\", \"mwh\": 24833.28220099999}, {\"SETTLEMENTDATE\": \"2022-06-27T20:15:00\", \"mwh\": 29828.717868000014}, {\"SETTLEMENTDATE\": \"2022-06-28T08:30:00\", \"mwh\": 28300.21836400002}, {\"SETTLEMENTDATE\": \"2022-06-28T07:15:00\", \"mwh\": 27440.535406000006}, {\"SETTLEMENTDATE\": \"2022-06-28T07:00:00\", \"mwh\": 26746.628813000003}, {\"SETTLEMENTDATE\": \"2022-06-28T03:45:00\", \"mwh\": 20463.22756499999}, {\"SETTLEMENTDATE\": \"2022-06-28T01:20:00\", \"mwh\": 21846.349313000006}, {\"SETTLEMENTDATE\": \"2022-06-27T23:25:00\", \"mwh\": 24088.334943}, {\"SETTLEMENTDATE\": \"2022-06-27T22:10:00\", \"mwh\": 26101.96195}, {\"SETTLEMENTDATE\": \"2022-06-27T19:35:00\", \"mwh\": 29904.77627999999}]}}, {\"mode\": \"vega-lite\"});\n",
       "</script>"
      ],
      "text/plain": [
       "alt.Chart(...)"
      ]
     },
     "execution_count": 82,
     "metadata": {},
     "output_type": "execute_result"
    }
   ],
   "source": [
    "import duckdb \n",
    "from deltalake import DeltaTable\n",
    "\n",
    "# Define the Path to your Delta Table.\n",
    "table_path = \"C:/xxx\"\n",
    "load(table_path)\n",
    "# Get table as pyarrow table\n",
    "dt = DeltaTable(table_path).to_pyarrow_table()\n",
    "\n",
    "# Query arrow table as an ordinary SQL Table.\n",
    "\n",
    "con = duckdb.connect()\n",
    "results =con.execute('''\n",
    "with xx as (Select SETTLEMENTDATE, DUID,MIN(SCADAVALUE) as mwh from  dt group by all)\n",
    "Select SETTLEMENTDATE, sum(mwh) as mwh from  xx group by all\n",
    "''').arrow()\n",
    "results = results.to_pandas()\n",
    "#print(results)\n",
    "\n",
    "import altair as alt\n",
    "alt.Chart(results).mark_line().encode( x='SETTLEMENTDATE:T', y='mwh:Q')"
   ]
  }
 ],
 "metadata": {
  "kernelspec": {
   "display_name": "Python 3.7.4 64-bit (system)",
   "language": "python",
   "name": "python3"
  },
  "language_info": {
   "codemirror_mode": {
    "name": "ipython",
    "version": 3
   },
   "file_extension": ".py",
   "mimetype": "text/x-python",
   "name": "python",
   "nbconvert_exporter": "python",
   "pygments_lexer": "ipython3",
   "version": "3.7.4"
  },
  "orig_nbformat": 4,
  "vscode": {
   "interpreter": {
    "hash": "7bd9e7efb6a75100408ddfb69d7c1262d756eda87c38ad89179993e0cd08f6f1"
   }
  }
 },
 "nbformat": 4,
 "nbformat_minor": 2
}
