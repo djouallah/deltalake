{
 "cells": [
  {
   "cell_type": "code",
   "execution_count": 85,
   "metadata": {},
   "outputs": [],
   "source": [
    "import os\n",
    "from datetime import datetime, date, timedelta\n",
    "import urllib.request as urllib2\n",
    "import tempfile\n",
    "import pandas as pd\n",
    "import pyarrow as pa\n",
    "from deltalake import DeltaTable\n",
    "from deltalake.writer import write_deltalake\n",
    "import re ,shutil\n",
    "from urllib.request import urlopen\n",
    "def get_file_path(filename):\n",
    "    return os.path.join(tempfile.gettempdir(), filename)\n",
    "def load(Path):    \n",
    "    \n",
    "    url = \"http://nemweb.com.au/Reports/Current/Dispatch_SCADA/\"\n",
    "    result = urlopen(url).read().decode('utf-8')\n",
    "    pattern = re.compile(r'[\\w.]*.zip')\n",
    "    filelist1 = pattern.findall(result)\n",
    "    filelist_unique = dict.fromkeys(filelist1)\n",
    "    filelist_sorted=sorted(filelist_unique, reverse=True)\n",
    "    filelist = filelist_sorted[:288]\n",
    "    \n",
    "    table_path = Path \n",
    "    try:\n",
    "        df = DeltaTable(table_path).to_pandas()\n",
    "    except:\n",
    "        df=pd.DataFrame(columns=['file']) \n",
    "    \n",
    "    df= df['file'].unique()\n",
    "    #print (df)\n",
    "\n",
    "    current = df.tolist()\n",
    "    #print(current)\n",
    "\n",
    "    files_to_upload = list(set(filelist) - set(current))\n",
    "    files_to_upload = list(dict.fromkeys(files_to_upload)) \n",
    "    print(str(len(files_to_upload)) + ' New File Loaded')\n",
    "    if len(files_to_upload) != 0 :\n",
    "      for x in files_to_upload:\n",
    "            with urlopen(url+x) as source, open(get_file_path(x), 'w+b') as target:\n",
    "                shutil.copyfileobj(source, target)\n",
    "            df = pd.read_csv(get_file_path(x),skiprows=1,usecols=[\"SETTLEMENTDATE\", \"DUID\", \"SCADAVALUE\"],parse_dates=[\"SETTLEMENTDATE\"])\n",
    "            df=df.dropna(how='all') #drop na\n",
    "            df['SETTLEMENTDATE']= pd.to_datetime(df['SETTLEMENTDATE'])\n",
    "            df['Date'] = df['SETTLEMENTDATE'].dt.date\n",
    "            df['file'] = x\n",
    "            tb=pa.Table.from_pandas(df,preserve_index=False)\n",
    "            my_schema = pa.schema([\n",
    "                      pa.field('SETTLEMENTDATE', pa.timestamp('us')),\n",
    "                      pa.field('DUID', pa.string()),\n",
    "                      pa.field('SCADAVALUE', pa.float64()),\n",
    "                      pa.field('Date', pa.date32()),\n",
    "                      pa.field('file', pa.string())\n",
    "                      ]\n",
    "                                                       )\n",
    "            xx=tb.cast(target_schema=my_schema)\n",
    "            #print(xx)\n",
    "            write_deltalake(table_path, xx,mode='append',partition_by=['Date'])"
   ]
  },
  {
   "cell_type": "code",
   "execution_count": 89,
   "metadata": {},
   "outputs": [
    {
     "name": "stdout",
     "output_type": "stream",
     "text": [
      "0 New File Loaded\n"
     ]
    },
    {
     "data": {
      "text/html": [
       "\n",
       "<div id=\"altair-viz-3f864c2eb1e24d7781f6116d109152b7\"></div>\n",
       "<script type=\"text/javascript\">\n",
       "  (function(spec, embedOpt){\n",
       "    let outputDiv = document.currentScript.previousElementSibling;\n",
       "    if (outputDiv.id !== \"altair-viz-3f864c2eb1e24d7781f6116d109152b7\") {\n",
       "      outputDiv = document.getElementById(\"altair-viz-3f864c2eb1e24d7781f6116d109152b7\");\n",
       "    }\n",
       "    const paths = {\n",
       "      \"vega\": \"https://cdn.jsdelivr.net/npm//vega@5?noext\",\n",
       "      \"vega-lib\": \"https://cdn.jsdelivr.net/npm//vega-lib?noext\",\n",
       "      \"vega-lite\": \"https://cdn.jsdelivr.net/npm//vega-lite@4.8.1?noext\",\n",
       "      \"vega-embed\": \"https://cdn.jsdelivr.net/npm//vega-embed@6?noext\",\n",
       "    };\n",
       "\n",
       "    function loadScript(lib) {\n",
       "      return new Promise(function(resolve, reject) {\n",
       "        var s = document.createElement('script');\n",
       "        s.src = paths[lib];\n",
       "        s.async = true;\n",
       "        s.onload = () => resolve(paths[lib]);\n",
       "        s.onerror = () => reject(`Error loading script: ${paths[lib]}`);\n",
       "        document.getElementsByTagName(\"head\")[0].appendChild(s);\n",
       "      });\n",
       "    }\n",
       "\n",
       "    function showError(err) {\n",
       "      outputDiv.innerHTML = `<div class=\"error\" style=\"color:red;\">${err}</div>`;\n",
       "      throw err;\n",
       "    }\n",
       "\n",
       "    function displayChart(vegaEmbed) {\n",
       "      vegaEmbed(outputDiv, spec, embedOpt)\n",
       "        .catch(err => showError(`Javascript Error: ${err.message}<br>This usually means there's a typo in your chart specification. See the javascript console for the full traceback.`));\n",
       "    }\n",
       "\n",
       "    if(typeof define === \"function\" && define.amd) {\n",
       "      requirejs.config({paths});\n",
       "      require([\"vega-embed\"], displayChart, err => showError(`Error loading script: ${err.message}`));\n",
       "    } else if (typeof vegaEmbed === \"function\") {\n",
       "      displayChart(vegaEmbed);\n",
       "    } else {\n",
       "      loadScript(\"vega\")\n",
       "        .then(() => loadScript(\"vega-lite\"))\n",
       "        .then(() => loadScript(\"vega-embed\"))\n",
       "        .catch(showError)\n",
       "        .then(() => displayChart(vegaEmbed));\n",
       "    }\n",
       "  })({\"config\": {\"view\": {\"continuousWidth\": 400, \"continuousHeight\": 300}}, \"data\": {\"name\": \"data-be8c1075138af51a3ab4e2e8e1d6fbba\"}, \"mark\": \"line\", \"encoding\": {\"x\": {\"type\": \"temporal\", \"field\": \"SETTLEMENTDATE\"}, \"y\": {\"type\": \"quantitative\", \"field\": \"mwh\"}}, \"$schema\": \"https://vega.github.io/schema/vega-lite/v4.8.1.json\", \"datasets\": {\"data-be8c1075138af51a3ab4e2e8e1d6fbba\": [{\"SETTLEMENTDATE\": \"2022-06-28T17:30:00\", \"mwh\": 29755.353381000008}, {\"SETTLEMENTDATE\": \"2022-06-28T15:35:00\", \"mwh\": 24180.001732000004}, {\"SETTLEMENTDATE\": \"2022-06-28T09:00:00\", \"mwh\": 27405.878707}, {\"SETTLEMENTDATE\": \"2022-06-28T19:05:00\", \"mwh\": 30322.128797999994}, {\"SETTLEMENTDATE\": \"2022-06-27T23:20:00\", \"mwh\": 24180.34842600001}, {\"SETTLEMENTDATE\": \"2022-06-28T05:15:00\", \"mwh\": 22063.530045000003}, {\"SETTLEMENTDATE\": \"2022-06-28T07:50:00\", \"mwh\": 28614.76355700002}, {\"SETTLEMENTDATE\": \"2022-06-28T08:05:00\", \"mwh\": 28587.405094000012}, {\"SETTLEMENTDATE\": \"2022-06-28T04:10:00\", \"mwh\": 20979.881428999994}, {\"SETTLEMENTDATE\": \"2022-06-28T19:20:00\", \"mwh\": 30137.12039699998}, {\"SETTLEMENTDATE\": \"2022-06-28T14:20:00\", \"mwh\": 23765.836179000013}, {\"SETTLEMENTDATE\": \"2022-06-28T08:55:00\", \"mwh\": 27547.639759000005}, {\"SETTLEMENTDATE\": \"2022-06-28T10:25:00\", \"mwh\": 24880.492082999997}, {\"SETTLEMENTDATE\": \"2022-06-28T19:55:00\", \"mwh\": 29893.974387000002}, {\"SETTLEMENTDATE\": \"2022-06-28T04:05:00\", \"mwh\": 20323.03192400001}, {\"SETTLEMENTDATE\": \"2022-06-27T23:10:00\", \"mwh\": 24270.995595000004}, {\"SETTLEMENTDATE\": \"2022-06-28T18:10:00\", \"mwh\": 30732.349640000004}, {\"SETTLEMENTDATE\": \"2022-06-28T01:20:00\", \"mwh\": 21846.34931300001}, {\"SETTLEMENTDATE\": \"2022-06-28T19:15:00\", \"mwh\": 30168.349917000018}, {\"SETTLEMENTDATE\": \"2022-06-28T07:35:00\", \"mwh\": 28260.000511000002}, {\"SETTLEMENTDATE\": \"2022-06-27T21:10:00\", \"mwh\": 28176.791691999995}, {\"SETTLEMENTDATE\": \"2022-06-28T06:05:00\", \"mwh\": 23338.101354000006}, {\"SETTLEMENTDATE\": \"2022-06-28T03:45:00\", \"mwh\": 20463.227564999994}, {\"SETTLEMENTDATE\": \"2022-06-28T15:00:00\", \"mwh\": 23222.319404000013}, {\"SETTLEMENTDATE\": \"2022-06-28T01:30:00\", \"mwh\": 21669.28081}, {\"SETTLEMENTDATE\": \"2022-06-28T04:00:00\", \"mwh\": 20321.187055000002}, {\"SETTLEMENTDATE\": \"2022-06-27T20:55:00\", \"mwh\": 28723.076278}, {\"SETTLEMENTDATE\": \"2022-06-28T02:35:00\", \"mwh\": 20435.38302}, {\"SETTLEMENTDATE\": \"2022-06-28T10:05:00\", \"mwh\": 24774.17509900001}, {\"SETTLEMENTDATE\": \"2022-06-27T21:40:00\", \"mwh\": 27120.88355600001}, {\"SETTLEMENTDATE\": \"2022-06-28T12:30:00\", \"mwh\": 23206.19279899999}, {\"SETTLEMENTDATE\": \"2022-06-27T22:25:00\", \"mwh\": 25411.553515999996}, {\"SETTLEMENTDATE\": \"2022-06-28T08:00:00\", \"mwh\": 28548.961276999995}, {\"SETTLEMENTDATE\": \"2022-06-28T10:10:00\", \"mwh\": 24565.764208000004}, {\"SETTLEMENTDATE\": \"2022-06-27T20:15:00\", \"mwh\": 29828.71786800001}, {\"SETTLEMENTDATE\": \"2022-06-27T21:55:00\", \"mwh\": 26597.864349000007}, {\"SETTLEMENTDATE\": \"2022-06-28T01:40:00\", \"mwh\": 21515.48105900001}, {\"SETTLEMENTDATE\": \"2022-06-28T05:45:00\", \"mwh\": 22934.819300999992}, {\"SETTLEMENTDATE\": \"2022-06-28T20:05:00\", \"mwh\": 29579.927672999987}, {\"SETTLEMENTDATE\": \"2022-06-28T02:30:00\", \"mwh\": 20538.39277199999}, {\"SETTLEMENTDATE\": \"2022-06-28T12:00:00\", \"mwh\": 23232.133671999985}, {\"SETTLEMENTDATE\": \"2022-06-28T07:30:00\", \"mwh\": 28052.27453100001}, {\"SETTLEMENTDATE\": \"2022-06-28T16:55:00\", \"mwh\": 27722.13216000002}, {\"SETTLEMENTDATE\": \"2022-06-27T21:25:00\", \"mwh\": 27739.082860999984}, {\"SETTLEMENTDATE\": \"2022-06-27T21:45:00\", \"mwh\": 27013.268126000014}, {\"SETTLEMENTDATE\": \"2022-06-28T16:30:00\", \"mwh\": 26257.66347800002}, {\"SETTLEMENTDATE\": \"2022-06-28T07:00:00\", \"mwh\": 26746.628813000003}, {\"SETTLEMENTDATE\": \"2022-06-28T15:55:00\", \"mwh\": 24579.388637000004}, {\"SETTLEMENTDATE\": \"2022-06-28T05:20:00\", \"mwh\": 22744.399503000004}, {\"SETTLEMENTDATE\": \"2022-06-28T15:30:00\", \"mwh\": 23946.713032999985}, {\"SETTLEMENTDATE\": \"2022-06-28T06:25:00\", \"mwh\": 24579.71447500001}, {\"SETTLEMENTDATE\": \"2022-06-28T14:15:00\", \"mwh\": 23182.405285}, {\"SETTLEMENTDATE\": \"2022-06-27T23:00:00\", \"mwh\": 24539.226472000002}, {\"SETTLEMENTDATE\": \"2022-06-28T03:25:00\", \"mwh\": 20030.100147000005}, {\"SETTLEMENTDATE\": \"2022-06-28T17:10:00\", \"mwh\": 28512.36332700003}, {\"SETTLEMENTDATE\": \"2022-06-27T21:15:00\", \"mwh\": 28077.83338}, {\"SETTLEMENTDATE\": \"2022-06-28T02:50:00\", \"mwh\": 20480.50510200002}, {\"SETTLEMENTDATE\": \"2022-06-28T02:00:00\", \"mwh\": 21146.174389000003}, {\"SETTLEMENTDATE\": \"2022-06-28T14:55:00\", \"mwh\": 23240.156433}, {\"SETTLEMENTDATE\": \"2022-06-28T17:45:00\", \"mwh\": 30521.205456000007}, {\"SETTLEMENTDATE\": \"2022-06-28T00:20:00\", \"mwh\": 22880.536969000015}, {\"SETTLEMENTDATE\": \"2022-06-28T04:45:00\", \"mwh\": 21406.188207999992}, {\"SETTLEMENTDATE\": \"2022-06-27T20:30:00\", \"mwh\": 29447.393315}, {\"SETTLEMENTDATE\": \"2022-06-28T12:35:00\", \"mwh\": 23429.003152}, {\"SETTLEMENTDATE\": \"2022-06-28T10:00:00\", \"mwh\": 24623.492952000008}, {\"SETTLEMENTDATE\": \"2022-06-27T23:30:00\", \"mwh\": 24046.939882000002}, {\"SETTLEMENTDATE\": \"2022-06-28T02:15:00\", \"mwh\": 20795.12436400001}, {\"SETTLEMENTDATE\": \"2022-06-28T17:00:00\", \"mwh\": 28151.665725000003}, {\"SETTLEMENTDATE\": \"2022-06-28T19:25:00\", \"mwh\": 29952.981210999995}, {\"SETTLEMENTDATE\": \"2022-06-28T03:05:00\", \"mwh\": 20362.56175}, {\"SETTLEMENTDATE\": \"2022-06-28T03:50:00\", \"mwh\": 20422.29977}, {\"SETTLEMENTDATE\": \"2022-06-28T03:55:00\", \"mwh\": 20388.693650000005}, {\"SETTLEMENTDATE\": \"2022-06-28T00:50:00\", \"mwh\": 22481.627932000003}, {\"SETTLEMENTDATE\": \"2022-06-28T02:40:00\", \"mwh\": 20463.885026000014}, {\"SETTLEMENTDATE\": \"2022-06-27T20:20:00\", \"mwh\": 29617.858705000006}, {\"SETTLEMENTDATE\": \"2022-06-28T03:35:00\", \"mwh\": 20031.682104}, {\"SETTLEMENTDATE\": \"2022-06-28T19:10:00\", \"mwh\": 30235.367296000008}, {\"SETTLEMENTDATE\": \"2022-06-27T21:05:00\", \"mwh\": 28423.47253900001}, {\"SETTLEMENTDATE\": \"2022-06-28T18:45:00\", \"mwh\": 30749.916045999995}, {\"SETTLEMENTDATE\": \"2022-06-28T15:15:00\", \"mwh\": 23526.866744}, {\"SETTLEMENTDATE\": \"2022-06-28T17:20:00\", \"mwh\": 29236.78219500002}, {\"SETTLEMENTDATE\": \"2022-06-28T04:20:00\", \"mwh\": 21346.496933000002}, {\"SETTLEMENTDATE\": \"2022-06-27T22:10:00\", \"mwh\": 26101.961950000004}, {\"SETTLEMENTDATE\": \"2022-06-28T13:05:00\", \"mwh\": 23796.020361000014}, {\"SETTLEMENTDATE\": \"2022-06-28T11:35:00\", \"mwh\": 23499.116218}, {\"SETTLEMENTDATE\": \"2022-06-28T01:50:00\", \"mwh\": 21238.41032800001}, {\"SETTLEMENTDATE\": \"2022-06-28T01:25:00\", \"mwh\": 21705.456569}, {\"SETTLEMENTDATE\": \"2022-06-28T10:35:00\", \"mwh\": 24586.376687000004}, {\"SETTLEMENTDATE\": \"2022-06-27T20:40:00\", \"mwh\": 29142.819290999993}, {\"SETTLEMENTDATE\": \"2022-06-28T00:10:00\", \"mwh\": 23287.760838999995}, {\"SETTLEMENTDATE\": \"2022-06-28T01:45:00\", \"mwh\": 21276.227575000008}, {\"SETTLEMENTDATE\": \"2022-06-28T09:10:00\", \"mwh\": 26940.70749}, {\"SETTLEMENTDATE\": \"2022-06-28T07:25:00\", \"mwh\": 27832.68912700001}, {\"SETTLEMENTDATE\": \"2022-06-28T05:00:00\", \"mwh\": 21667.522570999998}, {\"SETTLEMENTDATE\": \"2022-06-28T06:15:00\", \"mwh\": 24036.152752}, {\"SETTLEMENTDATE\": \"2022-06-28T09:55:00\", \"mwh\": 24878.614114000004}, {\"SETTLEMENTDATE\": \"2022-06-28T06:40:00\", \"mwh\": 25412.510001}, {\"SETTLEMENTDATE\": \"2022-06-28T07:05:00\", \"mwh\": 26983.61653800002}, {\"SETTLEMENTDATE\": \"2022-06-27T20:10:00\", \"mwh\": 29926.898795000005}, {\"SETTLEMENTDATE\": \"2022-06-28T12:45:00\", \"mwh\": 23634.82145000001}, {\"SETTLEMENTDATE\": \"2022-06-28T03:10:00\", \"mwh\": 20132.130792999997}, {\"SETTLEMENTDATE\": \"2022-06-28T09:40:00\", \"mwh\": 25397.851192000006}, {\"SETTLEMENTDATE\": \"2022-06-27T23:35:00\", \"mwh\": 23945.804466}, {\"SETTLEMENTDATE\": \"2022-06-27T23:15:00\", \"mwh\": 24342.715293000012}, {\"SETTLEMENTDATE\": \"2022-06-28T18:00:00\", \"mwh\": 30685.723586000022}, {\"SETTLEMENTDATE\": \"2022-06-27T23:05:00\", \"mwh\": 24329.257020999994}, {\"SETTLEMENTDATE\": \"2022-06-28T09:30:00\", \"mwh\": 25971.76488700001}, {\"SETTLEMENTDATE\": \"2022-06-28T08:45:00\", \"mwh\": 27810.94996600002}, {\"SETTLEMENTDATE\": \"2022-06-28T11:00:00\", \"mwh\": 23717.932207000016}, {\"SETTLEMENTDATE\": \"2022-06-27T21:50:00\", \"mwh\": 26843.305801999995}, {\"SETTLEMENTDATE\": \"2022-06-28T16:35:00\", \"mwh\": 26504.97884899999}, {\"SETTLEMENTDATE\": \"2022-06-27T21:35:00\", \"mwh\": 27204.76556999998}, {\"SETTLEMENTDATE\": \"2022-06-28T10:40:00\", \"mwh\": 24407.811357000028}, {\"SETTLEMENTDATE\": \"2022-06-28T14:25:00\", \"mwh\": 23806.02314299999}, {\"SETTLEMENTDATE\": \"2022-06-28T16:10:00\", \"mwh\": 25135.67191099998}, {\"SETTLEMENTDATE\": \"2022-06-28T19:40:00\", \"mwh\": 29969.978869999984}, {\"SETTLEMENTDATE\": \"2022-06-28T09:25:00\", \"mwh\": 26157.282566000013}, {\"SETTLEMENTDATE\": \"2022-06-28T17:50:00\", \"mwh\": 30599.863000999998}, {\"SETTLEMENTDATE\": \"2022-06-28T08:35:00\", \"mwh\": 28294.853277000017}, {\"SETTLEMENTDATE\": \"2022-06-28T19:35:00\", \"mwh\": 29891.234594000012}, {\"SETTLEMENTDATE\": \"2022-06-28T09:20:00\", \"mwh\": 26451.217075000026}, {\"SETTLEMENTDATE\": \"2022-06-28T12:25:00\", \"mwh\": 23141.01026000003}, {\"SETTLEMENTDATE\": \"2022-06-28T02:10:00\", \"mwh\": 20878.756410000005}, {\"SETTLEMENTDATE\": \"2022-06-28T16:05:00\", \"mwh\": 24924.101892999995}, {\"SETTLEMENTDATE\": \"2022-06-28T15:10:00\", \"mwh\": 23393.64909899999}, {\"SETTLEMENTDATE\": \"2022-06-28T05:40:00\", \"mwh\": 22666.21004700001}, {\"SETTLEMENTDATE\": \"2022-06-28T12:15:00\", \"mwh\": 23318.21493700001}, {\"SETTLEMENTDATE\": \"2022-06-27T20:35:00\", \"mwh\": 29361.639034999997}, {\"SETTLEMENTDATE\": \"2022-06-28T00:40:00\", \"mwh\": 22652.509928000018}, {\"SETTLEMENTDATE\": \"2022-06-28T18:50:00\", \"mwh\": 30718.28937300001}, {\"SETTLEMENTDATE\": \"2022-06-28T15:45:00\", \"mwh\": 24205.541773000004}, {\"SETTLEMENTDATE\": \"2022-06-28T01:10:00\", \"mwh\": 22072.682066999998}, {\"SETTLEMENTDATE\": \"2022-06-27T23:25:00\", \"mwh\": 24088.334943}, {\"SETTLEMENTDATE\": \"2022-06-28T03:40:00\", \"mwh\": 20256.736285000006}, {\"SETTLEMENTDATE\": \"2022-06-28T07:15:00\", \"mwh\": 27440.535406000006}, {\"SETTLEMENTDATE\": \"2022-06-28T17:35:00\", \"mwh\": 30101.842480999992}, {\"SETTLEMENTDATE\": \"2022-06-27T22:40:00\", \"mwh\": 25007.780266000005}, {\"SETTLEMENTDATE\": \"2022-06-28T05:30:00\", \"mwh\": 22019.960150999996}, {\"SETTLEMENTDATE\": \"2022-06-28T19:50:00\", \"mwh\": 29868.218911}, {\"SETTLEMENTDATE\": \"2022-06-28T06:45:00\", \"mwh\": 25752.038717000014}, {\"SETTLEMENTDATE\": \"2022-06-28T01:00:00\", \"mwh\": 22237.095874999988}, {\"SETTLEMENTDATE\": \"2022-06-28T07:45:00\", \"mwh\": 28456.427182000018}, {\"SETTLEMENTDATE\": \"2022-06-28T01:15:00\", \"mwh\": 21912.571821999994}, {\"SETTLEMENTDATE\": \"2022-06-28T12:55:00\", \"mwh\": 23635.647225}, {\"SETTLEMENTDATE\": \"2022-06-28T10:50:00\", \"mwh\": 24289.40300700002}, {\"SETTLEMENTDATE\": \"2022-06-28T15:20:00\", \"mwh\": 23600.560399999984}, {\"SETTLEMENTDATE\": \"2022-06-28T11:10:00\", \"mwh\": 23959.607959000008}, {\"SETTLEMENTDATE\": \"2022-06-28T00:45:00\", \"mwh\": 22555.249019000006}, {\"SETTLEMENTDATE\": \"2022-06-28T14:35:00\", \"mwh\": 23533.520659}, {\"SETTLEMENTDATE\": \"2022-06-28T06:55:00\", \"mwh\": 26452.317386}, {\"SETTLEMENTDATE\": \"2022-06-28T13:45:00\", \"mwh\": 23200.437592000002}, {\"SETTLEMENTDATE\": \"2022-06-28T19:00:00\", \"mwh\": 30562.805068000005}, {\"SETTLEMENTDATE\": \"2022-06-28T14:40:00\", \"mwh\": 23466.353829999982}, {\"SETTLEMENTDATE\": \"2022-06-28T13:30:00\", \"mwh\": 23927.330441000013}, {\"SETTLEMENTDATE\": \"2022-06-28T15:25:00\", \"mwh\": 23851.502588000007}, {\"SETTLEMENTDATE\": \"2022-06-28T07:10:00\", \"mwh\": 27135.750428999996}, {\"SETTLEMENTDATE\": \"2022-06-28T08:25:00\", \"mwh\": 28428.50074899999}, {\"SETTLEMENTDATE\": \"2022-06-28T00:15:00\", \"mwh\": 23033.128931000007}, {\"SETTLEMENTDATE\": \"2022-06-27T22:35:00\", \"mwh\": 25295.502659000012}, {\"SETTLEMENTDATE\": \"2022-06-28T13:40:00\", \"mwh\": 23992.411346999997}, {\"SETTLEMENTDATE\": \"2022-06-28T06:10:00\", \"mwh\": 23637.910693000005}, {\"SETTLEMENTDATE\": \"2022-06-28T14:00:00\", \"mwh\": 23254.311114999997}, {\"SETTLEMENTDATE\": \"2022-06-28T16:45:00\", \"mwh\": 27040.762504000013}, {\"SETTLEMENTDATE\": \"2022-06-28T04:25:00\", \"mwh\": 21347.332814000005}, {\"SETTLEMENTDATE\": \"2022-06-28T11:40:00\", \"mwh\": 23471.909408999993}, {\"SETTLEMENTDATE\": \"2022-06-28T11:50:00\", \"mwh\": 23257.69697300002}, {\"SETTLEMENTDATE\": \"2022-06-28T18:15:00\", \"mwh\": 30741.287739000014}, {\"SETTLEMENTDATE\": \"2022-06-28T11:15:00\", \"mwh\": 23930.960282999982}, {\"SETTLEMENTDATE\": \"2022-06-28T06:50:00\", \"mwh\": 26119.066286}, {\"SETTLEMENTDATE\": \"2022-06-28T04:40:00\", \"mwh\": 21355.322526999993}, {\"SETTLEMENTDATE\": \"2022-06-28T18:05:00\", \"mwh\": 30678.75950900001}, {\"SETTLEMENTDATE\": \"2022-06-28T09:45:00\", \"mwh\": 25218.627130999997}, {\"SETTLEMENTDATE\": \"2022-06-28T04:30:00\", \"mwh\": 21423.471724000006}, {\"SETTLEMENTDATE\": \"2022-06-28T05:35:00\", \"mwh\": 22178.172874000007}, {\"SETTLEMENTDATE\": \"2022-06-28T10:20:00\", \"mwh\": 24974.557732000005}, {\"SETTLEMENTDATE\": \"2022-06-28T06:35:00\", \"mwh\": 25028.278903}, {\"SETTLEMENTDATE\": \"2022-06-27T22:50:00\", \"mwh\": 24833.282200999995}, {\"SETTLEMENTDATE\": \"2022-06-28T08:40:00\", \"mwh\": 28107.101113}, {\"SETTLEMENTDATE\": \"2022-06-28T02:05:00\", \"mwh\": 21086.05509799999}, {\"SETTLEMENTDATE\": \"2022-06-28T02:25:00\", \"mwh\": 20627.001243999995}, {\"SETTLEMENTDATE\": \"2022-06-28T09:35:00\", \"mwh\": 25683.963479999988}, {\"SETTLEMENTDATE\": \"2022-06-27T23:50:00\", \"mwh\": 23685.357128000014}, {\"SETTLEMENTDATE\": \"2022-06-27T22:20:00\", \"mwh\": 25650.526109000006}, {\"SETTLEMENTDATE\": \"2022-06-28T13:55:00\", \"mwh\": 23213.429731}, {\"SETTLEMENTDATE\": \"2022-06-28T12:10:00\", \"mwh\": 23886.978228}, {\"SETTLEMENTDATE\": \"2022-06-27T22:05:00\", \"mwh\": 26155.14867899999}, {\"SETTLEMENTDATE\": \"2022-06-28T04:55:00\", \"mwh\": 21550.444877}, {\"SETTLEMENTDATE\": \"2022-06-28T11:45:00\", \"mwh\": 23273.914567}, {\"SETTLEMENTDATE\": \"2022-06-28T08:30:00\", \"mwh\": 28300.218364000004}, {\"SETTLEMENTDATE\": \"2022-06-28T03:20:00\", \"mwh\": 20090.685064999998}, {\"SETTLEMENTDATE\": \"2022-06-28T16:20:00\", \"mwh\": 25783.960600999995}, {\"SETTLEMENTDATE\": \"2022-06-27T23:55:00\", \"mwh\": 23564.663085000007}, {\"SETTLEMENTDATE\": \"2022-06-28T14:05:00\", \"mwh\": 23236.661599999992}, {\"SETTLEMENTDATE\": \"2022-06-28T11:05:00\", \"mwh\": 23716.480079999994}, {\"SETTLEMENTDATE\": \"2022-06-27T21:30:00\", \"mwh\": 27495.126945999993}, {\"SETTLEMENTDATE\": \"2022-06-28T00:30:00\", \"mwh\": 22807.796307999994}, {\"SETTLEMENTDATE\": \"2022-06-28T18:55:00\", \"mwh\": 30608.97080200001}, {\"SETTLEMENTDATE\": \"2022-06-28T18:20:00\", \"mwh\": 30688.342083999996}, {\"SETTLEMENTDATE\": \"2022-06-28T16:40:00\", \"mwh\": 26802.123901999985}, {\"SETTLEMENTDATE\": \"2022-06-28T04:35:00\", \"mwh\": 21549.252694000006}, {\"SETTLEMENTDATE\": \"2022-06-27T22:45:00\", \"mwh\": 24972.36570000001}, {\"SETTLEMENTDATE\": \"2022-06-28T11:30:00\", \"mwh\": 23485.786025}, {\"SETTLEMENTDATE\": \"2022-06-28T05:05:00\", \"mwh\": 21689.849424999986}, {\"SETTLEMENTDATE\": \"2022-06-28T18:30:00\", \"mwh\": 30679.45666400002}, {\"SETTLEMENTDATE\": \"2022-06-28T18:40:00\", \"mwh\": 30671.502339000006}, {\"SETTLEMENTDATE\": \"2022-06-28T02:55:00\", \"mwh\": 20299.127646}, {\"SETTLEMENTDATE\": \"2022-06-28T07:55:00\", \"mwh\": 28633.365834000004}, {\"SETTLEMENTDATE\": \"2022-06-28T12:20:00\", \"mwh\": 23285.453437}, {\"SETTLEMENTDATE\": \"2022-06-28T01:05:00\", \"mwh\": 22132.788853000013}, {\"SETTLEMENTDATE\": \"2022-06-28T14:50:00\", \"mwh\": 23194.731495999993}, {\"SETTLEMENTDATE\": \"2022-06-28T17:25:00\", \"mwh\": 29616.68155799999}, {\"SETTLEMENTDATE\": \"2022-06-28T05:50:00\", \"mwh\": 22969.91773299999}, {\"SETTLEMENTDATE\": \"2022-06-28T00:35:00\", \"mwh\": 22631.819387999993}, {\"SETTLEMENTDATE\": \"2022-06-28T13:35:00\", \"mwh\": 24024.37164500001}, {\"SETTLEMENTDATE\": \"2022-06-28T07:20:00\", \"mwh\": 27579.370938}, {\"SETTLEMENTDATE\": \"2022-06-28T02:20:00\", \"mwh\": 20769.70963099999}, {\"SETTLEMENTDATE\": \"2022-06-28T16:50:00\", \"mwh\": 27432.215637000012}, {\"SETTLEMENTDATE\": \"2022-06-28T10:45:00\", \"mwh\": 24467.326793999993}, {\"SETTLEMENTDATE\": \"2022-06-28T19:45:00\", \"mwh\": 29889.27666299998}, {\"SETTLEMENTDATE\": \"2022-06-28T06:30:00\", \"mwh\": 24785.826068999988}, {\"SETTLEMENTDATE\": \"2022-06-28T20:00:00\", \"mwh\": 29773.93757300001}, {\"SETTLEMENTDATE\": \"2022-06-28T09:15:00\", \"mwh\": 26624.376573000012}, {\"SETTLEMENTDATE\": \"2022-06-28T00:55:00\", \"mwh\": 22274.14218199998}, {\"SETTLEMENTDATE\": \"2022-06-27T21:00:00\", \"mwh\": 28621.49922100001}, {\"SETTLEMENTDATE\": \"2022-06-27T20:25:00\", \"mwh\": 29543.54249299999}, {\"SETTLEMENTDATE\": \"2022-06-28T19:30:00\", \"mwh\": 29882.461984999998}, {\"SETTLEMENTDATE\": \"2022-06-28T00:05:00\", \"mwh\": 23269.280081000008}, {\"SETTLEMENTDATE\": \"2022-06-27T21:20:00\", \"mwh\": 27920.64518299999}, {\"SETTLEMENTDATE\": \"2022-06-28T15:50:00\", \"mwh\": 24396.270512999996}, {\"SETTLEMENTDATE\": \"2022-06-28T01:55:00\", \"mwh\": 21229.721281999995}, {\"SETTLEMENTDATE\": \"2022-06-28T04:15:00\", \"mwh\": 21302.408915999993}, {\"SETTLEMENTDATE\": \"2022-06-28T17:40:00\", \"mwh\": 30265.639986999984}, {\"SETTLEMENTDATE\": \"2022-06-28T11:25:00\", \"mwh\": 23648.816849}, {\"SETTLEMENTDATE\": \"2022-06-28T03:30:00\", \"mwh\": 19938.511839999996}, {\"SETTLEMENTDATE\": \"2022-06-28T00:25:00\", \"mwh\": 22850.193914999993}, {\"SETTLEMENTDATE\": \"2022-06-28T09:50:00\", \"mwh\": 24970.501746000005}, {\"SETTLEMENTDATE\": \"2022-06-28T06:00:00\", \"mwh\": 23335.691113000008}, {\"SETTLEMENTDATE\": \"2022-06-28T08:15:00\", \"mwh\": 28592.33758699999}, {\"SETTLEMENTDATE\": \"2022-06-28T18:35:00\", \"mwh\": 30692.429775}, {\"SETTLEMENTDATE\": \"2022-06-28T07:40:00\", \"mwh\": 28356.23658900002}, {\"SETTLEMENTDATE\": \"2022-06-28T13:25:00\", \"mwh\": 23936.933640000003}, {\"SETTLEMENTDATE\": \"2022-06-28T08:50:00\", \"mwh\": 27631.937258999995}, {\"SETTLEMENTDATE\": \"2022-06-28T17:05:00\", \"mwh\": 28284.38030500001}, {\"SETTLEMENTDATE\": \"2022-06-28T14:30:00\", \"mwh\": 23584.512164999996}, {\"SETTLEMENTDATE\": \"2022-06-28T17:15:00\", \"mwh\": 28902.916831}, {\"SETTLEMENTDATE\": \"2022-06-28T01:35:00\", \"mwh\": 21607.708195000003}, {\"SETTLEMENTDATE\": \"2022-06-27T22:00:00\", \"mwh\": 26327.945257999992}, {\"SETTLEMENTDATE\": \"2022-06-28T03:00:00\", \"mwh\": 20337.265057000008}, {\"SETTLEMENTDATE\": \"2022-06-28T02:45:00\", \"mwh\": 20477.444251999994}, {\"SETTLEMENTDATE\": \"2022-06-27T20:50:00\", \"mwh\": 28916.497513000002}, {\"SETTLEMENTDATE\": \"2022-06-28T15:05:00\", \"mwh\": 23323.325411999995}, {\"SETTLEMENTDATE\": \"2022-06-28T13:10:00\", \"mwh\": 23677.225056999996}, {\"SETTLEMENTDATE\": \"2022-06-28T16:15:00\", \"mwh\": 25433.706340000015}, {\"SETTLEMENTDATE\": \"2022-06-28T05:55:00\", \"mwh\": 23163.154116}, {\"SETTLEMENTDATE\": \"2022-06-28T13:20:00\", \"mwh\": 23529.566671999997}, {\"SETTLEMENTDATE\": \"2022-06-28T15:40:00\", \"mwh\": 23856.671317}, {\"SETTLEMENTDATE\": \"2022-06-28T05:25:00\", \"mwh\": 21978.077993000014}, {\"SETTLEMENTDATE\": \"2022-06-28T08:10:00\", \"mwh\": 28596.83462000001}, {\"SETTLEMENTDATE\": \"2022-06-28T05:10:00\", \"mwh\": 21886.710755000007}, {\"SETTLEMENTDATE\": \"2022-06-27T22:15:00\", \"mwh\": 25927.567437000005}, {\"SETTLEMENTDATE\": \"2022-06-27T23:45:00\", \"mwh\": 23910.58765}, {\"SETTLEMENTDATE\": \"2022-06-28T17:55:00\", \"mwh\": 30462.28195699999}, {\"SETTLEMENTDATE\": \"2022-06-28T12:40:00\", \"mwh\": 23529.067126}, {\"SETTLEMENTDATE\": \"2022-06-28T08:20:00\", \"mwh\": 28583.447211000002}, {\"SETTLEMENTDATE\": \"2022-06-28T12:50:00\", \"mwh\": 23427.667737999996}, {\"SETTLEMENTDATE\": \"2022-06-27T20:45:00\", \"mwh\": 29024.50942100001}, {\"SETTLEMENTDATE\": \"2022-06-28T13:15:00\", \"mwh\": 23775.645042999997}, {\"SETTLEMENTDATE\": \"2022-06-27T22:30:00\", \"mwh\": 25289.318899000005}, {\"SETTLEMENTDATE\": \"2022-06-28T10:55:00\", \"mwh\": 23801.305759999992}, {\"SETTLEMENTDATE\": \"2022-06-27T23:40:00\", \"mwh\": 24025.47460300001}, {\"SETTLEMENTDATE\": \"2022-06-28T18:25:00\", \"mwh\": 30667.13824299998}, {\"SETTLEMENTDATE\": \"2022-06-28T11:20:00\", \"mwh\": 23875.902210000022}, {\"SETTLEMENTDATE\": \"2022-06-28T04:50:00\", \"mwh\": 21450.813347000003}, {\"SETTLEMENTDATE\": \"2022-06-28T10:15:00\", \"mwh\": 25017.187279999987}, {\"SETTLEMENTDATE\": \"2022-06-28T14:45:00\", \"mwh\": 23481.42762099999}, {\"SETTLEMENTDATE\": \"2022-06-28T03:15:00\", \"mwh\": 20122.96649700001}, {\"SETTLEMENTDATE\": \"2022-06-28T10:30:00\", \"mwh\": 24782.35263199999}, {\"SETTLEMENTDATE\": \"2022-06-28T09:05:00\", \"mwh\": 27100.437308000008}, {\"SETTLEMENTDATE\": \"2022-06-28T13:00:00\", \"mwh\": 23789.305949999998}, {\"SETTLEMENTDATE\": \"2022-06-28T16:00:00\", \"mwh\": 24713.63149799998}, {\"SETTLEMENTDATE\": \"2022-06-28T14:10:00\", \"mwh\": 23427.570049000016}, {\"SETTLEMENTDATE\": \"2022-06-27T22:55:00\", \"mwh\": 24719.274362}, {\"SETTLEMENTDATE\": \"2022-06-28T13:50:00\", \"mwh\": 23245.13368200001}, {\"SETTLEMENTDATE\": \"2022-06-28T06:20:00\", \"mwh\": 24210.62896500001}, {\"SETTLEMENTDATE\": \"2022-06-28T11:55:00\", \"mwh\": 23684.430694000002}, {\"SETTLEMENTDATE\": \"2022-06-28T00:00:00\", \"mwh\": 23575.564794}, {\"SETTLEMENTDATE\": \"2022-06-28T16:25:00\", \"mwh\": 26009.808534999986}, {\"SETTLEMENTDATE\": \"2022-06-28T12:05:00\", \"mwh\": 23659.380507000005}]}}, {\"mode\": \"vega-lite\"});\n",
       "</script>"
      ],
      "text/plain": [
       "alt.Chart(...)"
      ]
     },
     "execution_count": 89,
     "metadata": {},
     "output_type": "execute_result"
    }
   ],
   "source": [
    "import duckdb \n",
    "from deltalake import DeltaTable\n",
    "\n",
    "# Define the Path to your Delta Table.\n",
    "table_path = \"C:/xxx\"\n",
    "load(table_path)\n",
    "# Get table as pyarrow table\n",
    "dt = DeltaTable(table_path).to_pyarrow_table()\n",
    "\n",
    "# Query arrow table as an ordinary SQL Table.\n",
    "\n",
    "con = duckdb.connect()\n",
    "results =con.execute('''\n",
    "with xx as (Select SETTLEMENTDATE, DUID,MIN(SCADAVALUE) as mwh from  dt group by all)\n",
    "Select SETTLEMENTDATE, sum(mwh) as mwh from  xx group by all\n",
    "''').arrow()\n",
    "results = results.to_pandas()\n",
    "#print(results)\n",
    "\n",
    "import altair as alt\n",
    "alt.Chart(results).mark_line().encode( x='SETTLEMENTDATE:T', y='mwh:Q')"
   ]
  }
 ],
 "metadata": {
  "kernelspec": {
   "display_name": "Python 3.7.4 64-bit (system)",
   "language": "python",
   "name": "python3"
  },
  "language_info": {
   "codemirror_mode": {
    "name": "ipython",
    "version": 3
   },
   "file_extension": ".py",
   "mimetype": "text/x-python",
   "name": "python",
   "nbconvert_exporter": "python",
   "pygments_lexer": "ipython3",
   "version": "3.7.4"
  },
  "orig_nbformat": 4,
  "vscode": {
   "interpreter": {
    "hash": "7bd9e7efb6a75100408ddfb69d7c1262d756eda87c38ad89179993e0cd08f6f1"
   }
  }
 },
 "nbformat": 4,
 "nbformat_minor": 2
}
